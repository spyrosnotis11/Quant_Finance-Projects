{
  "cells": [
    {
      "cell_type": "code",
      "execution_count": 1,
      "metadata": {
        "colab": {
          "base_uri": "https://localhost:8080/",
          "height": 35
        },
        "id": "F4T1c3CuazDs",
        "outputId": "12f106fb-6f25-4461-a2a3-76193fca9668"
      },
      "outputs": [
        {
          "data": {
            "application/vnd.google.colaboratory.intrinsic+json": {
              "type": "string"
            },
            "text/plain": [
              "'%.4f'"
            ]
          },
          "execution_count": 1,
          "metadata": {},
          "output_type": "execute_result"
        }
      ],
      "source": [
        "import numpy as np\n",
        "import matplotlib.pyplot as plt\n",
        "import pandas as pd\n",
        "from scipy import stats\n",
        "import random\n",
        "%precision 4"
      ]
    },
    {
      "cell_type": "code",
      "execution_count": 2,
      "metadata": {
        "id": "2gDZzDyyeQwH"
      },
      "outputs": [],
      "source": [
        "def MC_barrier(barrier,S,K,T,r,d,sigma,N,npaths,flag1='Knock-out options',flag2='call'):\n",
        "    Spath=np.zeros((2*npaths,N))\n",
        "    zin=np.random.standard_normal((npaths,N))\n",
        "    z=np.vstack((zin,-zin))\n",
        "    z=stats.zscore(z)\n",
        "    dt=T/N\n",
        "    Spath[:,0]=S\n",
        "    ST=np.zeros((2*npaths))\n",
        "   \n",
        "    for j in np.arange(1,N):\n",
        "        Spath[:,j]=Spath[:,j-1]*np.exp((r-d-sigma**2/2)*dt+sigma*np.sqrt(dt)*z[:,j])\n",
        "        \n",
        "    if flag1=='Knock-out options':\n",
        "        if S>barrier:#down and out\n",
        "            for j in range(len(Spath)):\n",
        "                if np.min(Spath[j])>barrier:\n",
        "                    ST[j]=Spath[j,-1]\n",
        "                    \n",
        "                else:\n",
        "                    ST[j]=0\n",
        "                    \n",
        "        elif S<barrier:#up and out\n",
        "            for j in range(len(Spath)):\n",
        "                if np.max(Spath[j])<barrier:\n",
        "                    ST[j]=Spath[j,-1]\n",
        "                    up_and_out_call=ST[j]\n",
        "                else:\n",
        "                    ST[j]=0\n",
        "                    up_and_out_call=ST[j]\n",
        "        if flag2=='call':\n",
        "            payoffs=np.maximum(ST-K,0)\n",
        "        elif flag2=='put':\n",
        "            payoffs=np.zeros(2*npaths)\n",
        "            for i in range(len(ST)):\n",
        "              if (ST[i]!=0) & ((K-ST[i])>0):\n",
        "                payoffs[i]=K-ST[i]\n",
        "                \n",
        "\n",
        "        option_price=np.mean(payoffs)*np.exp(-r*T)\n",
        "    elif flag1=='Knock-in options':\n",
        "        \n",
        "        if S>barrier:#down and in\n",
        "            for j in range(len(Spath)):\n",
        "                if np.min(Spath[j])<barrier:\n",
        "                    ST[j]=Spath[j,-1]\n",
        "                    \n",
        "                else:\n",
        "                    ST[j]=0\n",
        "                    \n",
        "        elif S<barrier:#up and in\n",
        "            for j in range(len(Spath)):\n",
        "                if np.max(Spath[j])>barrier:\n",
        "                    ST[j]=Spath[j,-1]\n",
        "                    \n",
        "                else:\n",
        "                    ST[j]=0\n",
        "                    \n",
        "        if flag2=='call':\n",
        "            payoffs=np.maximum(ST-K,0)\n",
        "        elif flag2=='put':\n",
        "            payoffs=np.zeros(2*npaths)\n",
        "        for i in range(len(ST)):\n",
        "            if (ST[i]!=0) and ((K-ST[i])>0):\n",
        "              payoffs[i]=K-ST[i]\n",
        "        \n",
        "        option_price=np.mean(payoffs)*np.exp(-r*T)\n",
        "    return option_price"
      ]
    },
    {
      "cell_type": "code",
      "execution_count": 3,
      "metadata": {
        "colab": {
          "base_uri": "https://localhost:8080/"
        },
        "id": "W__HrHp_8stO",
        "outputId": "5779fca8-09eb-44c6-ccac-c399421a3bb2"
      },
      "outputs": [
        {
          "data": {
            "text/plain": [
              "0.029073954351170547"
            ]
          },
          "execution_count": 3,
          "metadata": {},
          "output_type": "execute_result"
        }
      ],
      "source": [
        "MC_barrier(90,100,95,1,0.05,0.01,0.2,365,10000,\"Knock-out options\",\"put\")"
      ]
    },
    {
      "cell_type": "code",
      "execution_count": 4,
      "metadata": {
        "id": "QsmgGaPrVsRp"
      },
      "outputs": [],
      "source": [
        "barrier=90; S=100; K =75; T = 1; r = 0.005; d = 0.01; sigma= 0.2; N=365 ; npaths=10000 "
      ]
    },
    {
      "cell_type": "code",
      "execution_count": 5,
      "metadata": {
        "colab": {
          "base_uri": "https://localhost:8080/"
        },
        "id": "tlL1_BYv-tr6",
        "outputId": "d355a5be-6739-4f17-e028-5ab804201fe8"
      },
      "outputs": [
        {
          "data": {
            "text/plain": [
              "0.60175130308459"
            ]
          },
          "execution_count": 5,
          "metadata": {},
          "output_type": "execute_result"
        }
      ],
      "source": [
        "barrier_put_option = MC_barrier(barrier,S,K,T,r,d,sigma,N,npaths,flag1='Knock-in options',flag2='put')\n",
        "barrier_put_option"
      ]
    },
    {
      "cell_type": "code",
      "execution_count": 25,
      "metadata": {
        "id": "lPHESGbG-rV2"
      },
      "outputs": [],
      "source": [
        "K = np.linspace(75, 125, 5) \n",
        "K = K[:, np.newaxis] \n",
        "barrier_call_option_list=[]\n",
        "barrier_put_option_list=[]\n",
        "barrier_down_and_out_call=[]\n",
        "barrier_up_and_out_call=[]\n",
        "barrier_up_and_in_call=[]\n",
        "barrier_down_and_in_call=[]\n",
        "barrier_down_and_out_put=[]\n",
        "barrier_up_and_out_put=[]\n",
        "barrier_up_and_in_put=[]\n",
        "barrier_down_and_in_put=[]\n",
        "for i in range(len(K)):\n",
        "  barrier_call_option1 = MC_barrier(barrier,S,K[i],T,r,d,sigma,N,npaths,flag1='Knock-out options',flag2='call')\n",
        "  if S>barrier:\n",
        "    barrier_down_and_out_call.append(barrier_call_option1)\n",
        "    barrier_up_and_out_call.append(0)\n",
        "  else:\n",
        "    barrier_up_and_out_call.append(barrier_call_option1)\n",
        "    barrier_down_and_out_call.append(0)\n",
        "\n",
        "  barrier_call_option2 = MC_barrier(barrier,S,K[i],T,r,d,sigma,N,npaths,flag1='Knock-in options',flag2='call') \n",
        "  if S>barrier:\n",
        "    barrier_down_and_in_call.append(barrier_call_option2)\n",
        "    barrier_up_and_in_call.append(0)\n",
        "  else:\n",
        "    barrier_up_and_in_call.append(barrier_call_option2)\n",
        "    barrier_down_and_in_call.append(0)\n",
        "  \n",
        "  barrier_put_option1 = MC_barrier(barrier,S,K[i],T,r,d,sigma,N,npaths,flag1='Knock-in options',flag2='put')\n",
        "  if S> barrier:\n",
        "    barrier_up_and_out_put.append(barrier_put_option1)\n",
        "    barrier_down_and_out_put.append(0)\n",
        "  else:\n",
        "    barrier_down_and_out_put.append(barrier_put_option1)\n",
        "    barrier_up_and_out_put.append(0)\n",
        "  barrier_put_option2 = MC_barrier(barrier,S,K[i],T,r,d,sigma,N,npaths,flag1='Knock-in options',flag2='put') \n",
        "  if S>barrier:\n",
        "    barrier_up_and_in_put.append(barrier_put_option2)\n",
        "    barrier_down_and_in_put.append(0)\n",
        "  else:\n",
        "    barrier_down_and_in_put.append(barrier_put_option2)\n",
        "    barrier_up_and_in_put.append(0)\n",
        "  \n",
        "\n",
        "# Barr_OptionsPerStrike = pd.DataFrame(np.concatenate([K, barrier_call_option, barrier_put_option], axis=1),columns = [\"Strike\", \"Call\", \"Put\"]) # data = np.concatenate([K, c, p], axis = 1)\n",
        "# display(Barr_OptionsPerStrike) # εμφάνιση του DataFrame\n"
      ]
    },
    {
      "cell_type": "code",
      "execution_count": 26,
      "metadata": {
        "id": "XktalN1qOEMW"
      },
      "outputs": [],
      "source": [
        "merge_data=pd.DataFrame(\n",
        "    {'K': K.tolist(),\n",
        "     'barrier_down_and_out_call': barrier_down_and_out_call,\n",
        "     'barrier_up_and_out_call': barrier_up_and_out_call,\n",
        "     'barrier_up_and_in_call': barrier_up_and_in_call,\n",
        "     'barrier_up_and_in_call': barrier_up_and_in_call,\n",
        "     'barrier_down_and_in_call': barrier_down_and_in_call,\n",
        "     'barrier_down_and_out_put': barrier_down_and_out_put,\n",
        "     'barrier_up_and_in_put': barrier_up_and_in_put,\n",
        "     'barrier_down_and_in_put':barrier_down_and_in_put\n",
        "    })"
      ]
    },
    {
      "cell_type": "code",
      "execution_count": 27,
      "metadata": {
        "colab": {
          "base_uri": "https://localhost:8080/",
          "height": 270
        },
        "id": "jo-j6T_GOjIk",
        "outputId": "43e23a00-02ef-4728-ff53-032155021222"
      },
      "outputs": [
        {
          "data": {
            "text/html": [
              "\n",
              "  <div id=\"df-7a877e48-3baf-48a2-a2db-68df88e1a364\">\n",
              "    <div class=\"colab-df-container\">\n",
              "      <div>\n",
              "<style scoped>\n",
              "    .dataframe tbody tr th:only-of-type {\n",
              "        vertical-align: middle;\n",
              "    }\n",
              "\n",
              "    .dataframe tbody tr th {\n",
              "        vertical-align: top;\n",
              "    }\n",
              "\n",
              "    .dataframe thead th {\n",
              "        text-align: right;\n",
              "    }\n",
              "</style>\n",
              "<table border=\"1\" class=\"dataframe\">\n",
              "  <thead>\n",
              "    <tr style=\"text-align: right;\">\n",
              "      <th></th>\n",
              "      <th>K</th>\n",
              "      <th>barrier_down_and_out_call</th>\n",
              "      <th>barrier_up_and_out_call</th>\n",
              "      <th>barrier_up_and_in_call</th>\n",
              "      <th>barrier_down_and_in_call</th>\n",
              "      <th>barrier_down_and_out_put</th>\n",
              "      <th>barrier_up_and_in_put</th>\n",
              "      <th>barrier_down_and_in_put</th>\n",
              "    </tr>\n",
              "  </thead>\n",
              "  <tbody>\n",
              "    <tr>\n",
              "      <th>0</th>\n",
              "      <td>[75.0]</td>\n",
              "      <td>0</td>\n",
              "      <td>4.866424</td>\n",
              "      <td>20.341118</td>\n",
              "      <td>0</td>\n",
              "      <td>0.040789</td>\n",
              "      <td>0</td>\n",
              "      <td>0.047138</td>\n",
              "    </tr>\n",
              "    <tr>\n",
              "      <th>1</th>\n",
              "      <td>[87.5]</td>\n",
              "      <td>0</td>\n",
              "      <td>1.462151</td>\n",
              "      <td>13.745699</td>\n",
              "      <td>0</td>\n",
              "      <td>0.371363</td>\n",
              "      <td>0</td>\n",
              "      <td>0.354174</td>\n",
              "    </tr>\n",
              "    <tr>\n",
              "      <th>2</th>\n",
              "      <td>[100.0]</td>\n",
              "      <td>0</td>\n",
              "      <td>0.146270</td>\n",
              "      <td>9.193080</td>\n",
              "      <td>0</td>\n",
              "      <td>1.685886</td>\n",
              "      <td>0</td>\n",
              "      <td>1.665354</td>\n",
              "    </tr>\n",
              "    <tr>\n",
              "      <th>3</th>\n",
              "      <td>[112.5]</td>\n",
              "      <td>0</td>\n",
              "      <td>0.000000</td>\n",
              "      <td>8.178821</td>\n",
              "      <td>0</td>\n",
              "      <td>4.588985</td>\n",
              "      <td>0</td>\n",
              "      <td>4.665561</td>\n",
              "    </tr>\n",
              "    <tr>\n",
              "      <th>4</th>\n",
              "      <td>[125.0]</td>\n",
              "      <td>0</td>\n",
              "      <td>0.000000</td>\n",
              "      <td>11.161395</td>\n",
              "      <td>0</td>\n",
              "      <td>9.748891</td>\n",
              "      <td>0</td>\n",
              "      <td>9.782033</td>\n",
              "    </tr>\n",
              "  </tbody>\n",
              "</table>\n",
              "</div>\n",
              "      <button class=\"colab-df-convert\" onclick=\"convertToInteractive('df-7a877e48-3baf-48a2-a2db-68df88e1a364')\"\n",
              "              title=\"Convert this dataframe to an interactive table.\"\n",
              "              style=\"display:none;\">\n",
              "        \n",
              "  <svg xmlns=\"http://www.w3.org/2000/svg\" height=\"24px\"viewBox=\"0 0 24 24\"\n",
              "       width=\"24px\">\n",
              "    <path d=\"M0 0h24v24H0V0z\" fill=\"none\"/>\n",
              "    <path d=\"M18.56 5.44l.94 2.06.94-2.06 2.06-.94-2.06-.94-.94-2.06-.94 2.06-2.06.94zm-11 1L8.5 8.5l.94-2.06 2.06-.94-2.06-.94L8.5 2.5l-.94 2.06-2.06.94zm10 10l.94 2.06.94-2.06 2.06-.94-2.06-.94-.94-2.06-.94 2.06-2.06.94z\"/><path d=\"M17.41 7.96l-1.37-1.37c-.4-.4-.92-.59-1.43-.59-.52 0-1.04.2-1.43.59L10.3 9.45l-7.72 7.72c-.78.78-.78 2.05 0 2.83L4 21.41c.39.39.9.59 1.41.59.51 0 1.02-.2 1.41-.59l7.78-7.78 2.81-2.81c.8-.78.8-2.07 0-2.86zM5.41 20L4 18.59l7.72-7.72 1.47 1.35L5.41 20z\"/>\n",
              "  </svg>\n",
              "      </button>\n",
              "      \n",
              "  <style>\n",
              "    .colab-df-container {\n",
              "      display:flex;\n",
              "      flex-wrap:wrap;\n",
              "      gap: 12px;\n",
              "    }\n",
              "\n",
              "    .colab-df-convert {\n",
              "      background-color: #E8F0FE;\n",
              "      border: none;\n",
              "      border-radius: 50%;\n",
              "      cursor: pointer;\n",
              "      display: none;\n",
              "      fill: #1967D2;\n",
              "      height: 32px;\n",
              "      padding: 0 0 0 0;\n",
              "      width: 32px;\n",
              "    }\n",
              "\n",
              "    .colab-df-convert:hover {\n",
              "      background-color: #E2EBFA;\n",
              "      box-shadow: 0px 1px 2px rgba(60, 64, 67, 0.3), 0px 1px 3px 1px rgba(60, 64, 67, 0.15);\n",
              "      fill: #174EA6;\n",
              "    }\n",
              "\n",
              "    [theme=dark] .colab-df-convert {\n",
              "      background-color: #3B4455;\n",
              "      fill: #D2E3FC;\n",
              "    }\n",
              "\n",
              "    [theme=dark] .colab-df-convert:hover {\n",
              "      background-color: #434B5C;\n",
              "      box-shadow: 0px 1px 3px 1px rgba(0, 0, 0, 0.15);\n",
              "      filter: drop-shadow(0px 1px 2px rgba(0, 0, 0, 0.3));\n",
              "      fill: #FFFFFF;\n",
              "    }\n",
              "  </style>\n",
              "\n",
              "      <script>\n",
              "        const buttonEl =\n",
              "          document.querySelector('#df-7a877e48-3baf-48a2-a2db-68df88e1a364 button.colab-df-convert');\n",
              "        buttonEl.style.display =\n",
              "          google.colab.kernel.accessAllowed ? 'block' : 'none';\n",
              "\n",
              "        async function convertToInteractive(key) {\n",
              "          const element = document.querySelector('#df-7a877e48-3baf-48a2-a2db-68df88e1a364');\n",
              "          const dataTable =\n",
              "            await google.colab.kernel.invokeFunction('convertToInteractive',\n",
              "                                                     [key], {});\n",
              "          if (!dataTable) return;\n",
              "\n",
              "          const docLinkHtml = 'Like what you see? Visit the ' +\n",
              "            '<a target=\"_blank\" href=https://colab.research.google.com/notebooks/data_table.ipynb>data table notebook</a>'\n",
              "            + ' to learn more about interactive tables.';\n",
              "          element.innerHTML = '';\n",
              "          dataTable['output_type'] = 'display_data';\n",
              "          await google.colab.output.renderOutput(dataTable, element);\n",
              "          const docLink = document.createElement('div');\n",
              "          docLink.innerHTML = docLinkHtml;\n",
              "          element.appendChild(docLink);\n",
              "        }\n",
              "      </script>\n",
              "    </div>\n",
              "  </div>\n",
              "  "
            ],
            "text/plain": [
              "         K  barrier_down_and_out_call  barrier_up_and_out_call  \\\n",
              "0   [75.0]                          0                 4.866424   \n",
              "1   [87.5]                          0                 1.462151   \n",
              "2  [100.0]                          0                 0.146270   \n",
              "3  [112.5]                          0                 0.000000   \n",
              "4  [125.0]                          0                 0.000000   \n",
              "\n",
              "   barrier_up_and_in_call  barrier_down_and_in_call  barrier_down_and_out_put  \\\n",
              "0               20.341118                         0                  0.040789   \n",
              "1               13.745699                         0                  0.371363   \n",
              "2                9.193080                         0                  1.685886   \n",
              "3                8.178821                         0                  4.588985   \n",
              "4               11.161395                         0                  9.748891   \n",
              "\n",
              "   barrier_up_and_in_put  barrier_down_and_in_put  \n",
              "0                      0                 0.047138  \n",
              "1                      0                 0.354174  \n",
              "2                      0                 1.665354  \n",
              "3                      0                 4.665561  \n",
              "4                      0                 9.782033  "
            ]
          },
          "metadata": {},
          "output_type": "display_data"
        }
      ],
      "source": [
        "display(merge_data)"
      ]
    },
    {
      "cell_type": "code",
      "execution_count": 29,
      "metadata": {
        "colab": {
          "base_uri": "https://localhost:8080/",
          "height": 421
        },
        "id": "9SStWOpmOsE_",
        "outputId": "f7f8e4a9-31a9-4eed-8cfd-2d86898cb088"
      },
      "outputs": [
        {
          "data": {
            "text/plain": [
              "Text(0.5, 1.0, 'Barrier Put Option')"
            ]
          },
          "execution_count": 29,
          "metadata": {},
          "output_type": "execute_result"
        },
        {
          "data": {
            "image/png": "[encoded data removed]",
            "text/plain": [
              "<Figure size 1296x432 with 1 Axes>"
            ]
          },
          "metadata": {
            "needs_background": "light"
          },
          "output_type": "display_data"
        }
      ],
      "source": [
        "plt.figure(figsize= (18,6))\n",
        "plt.plot(merge_data['barrier_down_and_out_put'],'b', lw=1.5, label='Down-and-out put')\n",
        "plt.plot(merge_data['barrier_down_and_in_put'],'r', lw=1.5, label='Down-and-in put')\n",
        "plt.grid(True) \n",
        "plt.legend() \n",
        "plt.axis('tight')\n",
        "plt.xlabel('Strike Prices')\n",
        "plt.ylabel('Put Prices')  \n",
        "plt.title('Barrier Put Option')"
      ]
    },
    {
      "cell_type": "code",
      "execution_count": 30,
      "metadata": {
        "id": "DBPrug8yfR0-"
      },
      "outputs": [],
      "source": [
        "barrier=110; S=100; K =75; T = 1; r = 0.005; d = 0.01; sigma= 0.2; N=365 ; npaths=10000 "
      ]
    },
    {
      "cell_type": "code",
      "execution_count": 31,
      "metadata": {
        "id": "8QTjFEf6fATa"
      },
      "outputs": [],
      "source": [
        "K = np.linspace(75, 125, 5) \n",
        "K = K[:, np.newaxis] \n",
        "\n",
        "barrier_call_option_list=[]\n",
        "barrier_put_option_list=[]\n",
        "barrier_down_and_out_call=[]\n",
        "barrier_up_and_out_call=[]\n",
        "barrier_up_and_in_call=[]\n",
        "barrier_down_and_in_call=[]\n",
        "barrier_down_and_out_put=[]\n",
        "barrier_up_and_out_put=[]\n",
        "barrier_up_and_in_put=[]\n",
        "barrier_down_and_in_put=[]\n",
        "for i in range(len(K)):\n",
        "  barrier_call_option1 = MC_barrier(barrier,S,K[i],T,r,d,sigma,N,npaths,flag1='Knock-out options',flag2='call')\n",
        "  if S>barrier:\n",
        "    barrier_down_and_out_call.append(barrier_call_option1)\n",
        "    barrier_up_and_out_call.append(0)\n",
        "  else:\n",
        "    barrier_up_and_out_call.append(barrier_call_option1)\n",
        "    barrier_down_and_out_call.append(0)\n",
        "\n",
        "  barrier_call_option2 = MC_barrier(barrier,S,K[i],T,r,d,sigma,N,npaths,flag1='Knock-in options',flag2='call') \n",
        "  if S>barrier:\n",
        "    barrier_down_and_in_call.append(barrier_call_option2)\n",
        "    barrier_up_and_in_call.append(0)\n",
        "  else:\n",
        "    barrier_up_and_in_call.append(barrier_call_option2)\n",
        "    barrier_down_and_in_call.append(0)\n",
        "  \n",
        "  barrier_put_option1 = MC_barrier(barrier,S,K[i],T,r,d,sigma,N,npaths,flag1='Knock-in options',flag2='put')\n",
        "  if S> barrier:\n",
        "    barrier_down_and_out_put.append(barrier_put_option1)\n",
        "    barrier_up_and_out_put.append(0)\n",
        "  else:\n",
        "    barrier_up_and_out_put.append(barrier_put_option1)\n",
        "    barrier_down_and_out_put.append(0)\n",
        "  barrier_put_option2 = MC_barrier(barrier,S,K[i],T,r,d,sigma,N,npaths,flag1='Knock-in options',flag2='put') \n",
        "  if S>barrier:\n",
        "    barrier_down_and_in_put.append(barrier_put_option2)\n",
        "    barrier_up_and_in_put.append(0)\n",
        "  else:\n",
        "    barrier_up_and_in_put.append(barrier_put_option2)\n",
        "    barrier_down_and_in_put.append(0)"
      ]
    },
    {
      "cell_type": "code",
      "execution_count": 32,
      "metadata": {
        "id": "ze1RbhtJf5vA"
      },
      "outputs": [],
      "source": [
        "merge_data=pd.DataFrame(\n",
        "    {'K': K.tolist(),\n",
        "     'barrier_down_and_out_call': barrier_down_and_out_call,\n",
        "     'barrier_up_and_out_call': barrier_up_and_out_call,\n",
        "     'barrier_up_and_in_call': barrier_up_and_in_call,\n",
        "     'barrier_up_and_in_call': barrier_up_and_in_call,\n",
        "     'barrier_down_and_in_call': barrier_down_and_in_call,\n",
        "     'barrier_down_and_out_put': barrier_down_and_out_put,\n",
        "     'barrier_up_and_in_put': barrier_up_and_in_put,\n",
        "     'barrier_down_and_in_put':barrier_down_and_in_put\n",
        "    })"
      ]
    },
    {
      "cell_type": "code",
      "execution_count": 33,
      "metadata": {
        "colab": {
          "base_uri": "https://localhost:8080/",
          "height": 421
        },
        "id": "rwowWEDxfYiT",
        "outputId": "ab9a63d4-311e-4b6a-d912-a51e7aa22efb"
      },
      "outputs": [
        {
          "data": {
            "text/plain": [
              "Text(0.5, 1.0, 'Barrier Call Option')"
            ]
          },
          "execution_count": 33,
          "metadata": {},
          "output_type": "execute_result"
        },
        {
          "data": {
            "image/png": "[encoded data removed]",
            "text/plain": [
              "<Figure size 1296x432 with 1 Axes>"
            ]
          },
          "metadata": {
            "needs_background": "light"
          },
          "output_type": "display_data"
        }
      ],
      "source": [
        "plt.figure(figsize= (18,6))\n",
        "plt.plot(merge_data['barrier_up_and_out_call'],'b', lw=1.5, label='Up-and-out call')\n",
        "plt.plot(merge_data['barrier_up_and_in_call'],'r', lw=1.5, label='Up-and-in call')\n",
        "plt.grid(True) \n",
        "plt.legend() \n",
        "plt.axis('tight')\n",
        "plt.xlabel('Strike Prices')\n",
        "plt.ylabel('Call Prices')  \n",
        "plt.title('Barrier Call Option')"
      ]
    }
  ],
  "metadata": {
    "colab": {
      "provenance": []
    },
    "kernelspec": {
      "display_name": "Python 3",
      "name": "python3"
    },
    "language_info": {
      "name": "python"
    }
  },
  "nbformat": 4,
  "nbformat_minor": 0
}
